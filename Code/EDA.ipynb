{
 "cells": [
  {
   "cell_type": "code",
   "execution_count": 1,
   "id": "70ab82b6",
   "metadata": {},
   "outputs": [],
   "source": [
    "import pandas as pd\n",
    "import numpy as np\n",
    "import openpyxl\n",
    "\n",
    "pd.set_option('display.max_rows', None)\n",
    "pd.set_option('display.max_columns', None)"
   ]
  },
  {
   "cell_type": "markdown",
   "id": "39598d14",
   "metadata": {},
   "source": [
    "### Load Data"
   ]
  },
  {
   "cell_type": "code",
   "execution_count": 2,
   "id": "a67c6253",
   "metadata": {},
   "outputs": [],
   "source": [
    "global_cs_2023 = pd.read_excel(\"../Data/Global Case Sales 2023.xlsx\") # (572,887  ,  20)\n",
    "master_facility = pd.read_excel(\"../Data/Master Facility List.xlsx\") # (7,126  ,  92)\n",
    "assurance_volume = pd.read_csv(\"../Data/QSET_ASSURANCE_PROD_VOL_EXPORT.csv\") # (29,177  ,  5)\n",
    "\n",
    "water_wwd = pd.read_excel(\"../Data/Water & WWD Comments.xlsx\")\n",
    "water_wwd = water_wwd[water_wwd['Indicator'] == 'Total Wastewater Discharged (kL) [kL]']  # (9,254  ,  9)"
   ]
  },
  {
   "cell_type": "code",
   "execution_count": 3,
   "id": "6a37b1ee",
   "metadata": {},
   "outputs": [],
   "source": [
    "column_names = [\n",
    "    \"Indicator_Name\", \"Code\", \"Entity_Name\", \n",
    "    \"Facility_ID\", \"Reporting_Period\", \"Answer\"\n",
    "]\n",
    "\n",
    "numeric_input_ind = pd.read_csv(\"../Data/Monthly Numeric Indicator.csv\", encoding='utf-16', sep='\\t', header=0, names=column_names) # (197,418  ,  6)"
   ]
  },
  {
   "cell_type": "code",
   "execution_count": 4,
   "id": "7b4b2fda",
   "metadata": {},
   "outputs": [],
   "source": [
    "column_names = [\n",
    "    \"Reporting_Period\", \"Entity_Name\", \"Code\", \"Indicator_Name\", \"Answer\", \"Unit\", \n",
    "    \"Help_Text\", \"Comments\", \"Frequency\", \"FolderPath\", \"Ord\"\n",
    "]\n",
    "text_input_ind = pd.read_csv(\"../Data/Monthly Text Input Indicator.csv\", encoding='ISO-8859-1',header=0, names=column_names) # (70,917  ,  11)"
   ]
  },
  {
   "cell_type": "markdown",
   "id": "452c1a55",
   "metadata": {},
   "source": [
    "### Task 1: Text Input\n",
    "- Check to see if answers for the same indicator switches one month to next, if yes outlier\n",
    "- If answer is missing, outlier\n",
    "\n",
    "- Columns to keep: Facility_ID, Facility_Name, Bottler, OU, Reporting_Period, Detection_Results"
   ]
  },
  {
   "cell_type": "code",
   "execution_count": 5,
   "id": "c6ad9ee5",
   "metadata": {},
   "outputs": [],
   "source": [
    "# Extract Facility_ID by splitting FolderPath at '>', taking the last part, and trimming whitespace.\n",
    "text_input_ind['Facility_ID'] = text_input_ind['FolderPath'].apply(lambda x: x.split('>')[-1].strip())\n",
    "\n",
    "# Convert Facility_ID to a numeric type, coercing errors to NaN, and then change to int64.\n",
    "text_input_ind['Facility_ID'] = pd.to_numeric(text_input_ind['Facility_ID'], errors='coerce').astype('int64')"
   ]
  },
  {
   "cell_type": "code",
   "execution_count": 6,
   "id": "45c2a5d8",
   "metadata": {},
   "outputs": [
    {
     "name": "stdout",
     "output_type": "stream",
     "text": [
      "Number of missing values in 'Answer': 26106\n"
     ]
    }
   ],
   "source": [
    "# Count the number of missing values in the \"Answer\" column\n",
    "missing_count_answer = text_input_ind[\"Answer\"].isnull().sum()\n",
    "\n",
    "# Print the result\n",
    "print(f\"Number of missing values in 'Answer': {missing_count_answer}\")"
   ]
  },
  {
   "cell_type": "code",
   "execution_count": 7,
   "id": "0351d10d",
   "metadata": {},
   "outputs": [],
   "source": [
    "# Perform a merge based on Facility_ID\n",
    "text_input_ind = text_input_ind.merge(\n",
    "    master_facility[['FACILITY_ID', 'FACILITY_NAME', 'BTLR_NAME_ISSCOM', 'BUNAME_BU']],\n",
    "    left_on='Facility_ID',\n",
    "    right_on='FACILITY_ID',\n",
    "    how='left'\n",
    ")\n",
    "\n",
    "# # Drop the extra FACILITY_ID column after merge to avoid duplication\n",
    "# text_input_ind = text_input_ind.drop(columns=['FACILITY_ID_x'])\n",
    "\n",
    "# # Rename columns to match the desired names\n",
    "# text_input_ind = text_input_ind.rename(columns={'FACILITY_ID_y': 'Facility_ID', 'FACILITY_NAME': 'Facility_Name'})\n"
   ]
  },
  {
   "cell_type": "code",
   "execution_count": 8,
   "id": "637a247b",
   "metadata": {},
   "outputs": [
    {
     "data": {
      "text/plain": [
       "(70917, 16)"
      ]
     },
     "execution_count": 8,
     "metadata": {},
     "output_type": "execute_result"
    }
   ],
   "source": [
    "text_input_ind.shape"
   ]
  },
  {
   "cell_type": "code",
   "execution_count": 9,
   "id": "0b29a4f5",
   "metadata": {},
   "outputs": [
    {
     "name": "stdout",
     "output_type": "stream",
     "text": [
      "Number of missing values in 'Answer': 26106\n"
     ]
    }
   ],
   "source": [
    "# Count the number of missing values in the \"Answer\" column\n",
    "missing_count_answer = text_input_ind[\"Answer\"].isnull().sum()\n",
    "\n",
    "# Print the result\n",
    "print(f\"Number of missing values in 'Answer': {missing_count_answer}\")"
   ]
  },
  {
   "cell_type": "code",
   "execution_count": 10,
   "id": "f8c11424",
   "metadata": {},
   "outputs": [],
   "source": [
    "# Keep only the relevant columns\n",
    "cols_to_keep = [\"BUNAME_BU\", \"Reporting_Period\", \"Facility_ID\", \"FACILITY_NAME\", \"BTLR_NAME_ISSCOM\", \"Indicator_Name\", \"Answer\"]\n",
    "text_input_ind = text_input_ind[cols_to_keep]"
   ]
  },
  {
   "cell_type": "code",
   "execution_count": 11,
   "id": "1e3dae2e",
   "metadata": {},
   "outputs": [
    {
     "name": "stdout",
     "output_type": "stream",
     "text": [
      "Number of missing values in 'Answer': 26106\n"
     ]
    }
   ],
   "source": [
    "# Count the number of missing values in the \"Answer\" column\n",
    "missing_count_answer = text_input_ind[\"Answer\"].isnull().sum()\n",
    "\n",
    "# Print the result\n",
    "print(f\"Number of missing values in 'Answer': {missing_count_answer}\")"
   ]
  },
  {
   "cell_type": "code",
   "execution_count": 12,
   "id": "b296a07d",
   "metadata": {},
   "outputs": [
    {
     "data": {
      "text/plain": [
       "(70917, 7)"
      ]
     },
     "execution_count": 12,
     "metadata": {},
     "output_type": "execute_result"
    }
   ],
   "source": [
    "text_input_ind.shape"
   ]
  },
  {
   "cell_type": "code",
   "execution_count": 13,
   "id": "2b34e901",
   "metadata": {},
   "outputs": [
    {
     "data": {
      "text/html": [
       "<div>\n",
       "<style scoped>\n",
       "    .dataframe tbody tr th:only-of-type {\n",
       "        vertical-align: middle;\n",
       "    }\n",
       "\n",
       "    .dataframe tbody tr th {\n",
       "        vertical-align: top;\n",
       "    }\n",
       "\n",
       "    .dataframe thead th {\n",
       "        text-align: right;\n",
       "    }\n",
       "</style>\n",
       "<table border=\"1\" class=\"dataframe\">\n",
       "  <thead>\n",
       "    <tr style=\"text-align: right;\">\n",
       "      <th></th>\n",
       "      <th>BUNAME_BU</th>\n",
       "      <th>Reporting_Period</th>\n",
       "      <th>Facility_ID</th>\n",
       "      <th>FACILITY_NAME</th>\n",
       "      <th>BTLR_NAME_ISSCOM</th>\n",
       "      <th>Indicator_Name</th>\n",
       "      <th>Answer</th>\n",
       "    </tr>\n",
       "  </thead>\n",
       "  <tbody>\n",
       "    <tr>\n",
       "      <th>0</th>\n",
       "      <td>NA BU</td>\n",
       "      <td>1/1/2024</td>\n",
       "      <td>10011</td>\n",
       "      <td>REYES COCA-COLA BOTTLING RTM NON PRODUCTION</td>\n",
       "      <td>REYES COCA-COLA BOTTLING</td>\n",
       "      <td>Fleet Vehicle Classification</td>\n",
       "      <td>Owned and Leased Distribution</td>\n",
       "    </tr>\n",
       "    <tr>\n",
       "      <th>1</th>\n",
       "      <td>INSWA BU</td>\n",
       "      <td>1/1/2024</td>\n",
       "      <td>10013</td>\n",
       "      <td>HCCB SANAND</td>\n",
       "      <td>HINDUSTAN CC BVG</td>\n",
       "      <td>Fleet Vehicle Classification</td>\n",
       "      <td>Third Party Distribution Vehicles|Owned and Le...</td>\n",
       "    </tr>\n",
       "    <tr>\n",
       "      <th>2</th>\n",
       "      <td>NA BU</td>\n",
       "      <td>1/1/2024</td>\n",
       "      <td>10031</td>\n",
       "      <td>TCCC RTM NON PRODUCTION</td>\n",
       "      <td>NaN</td>\n",
       "      <td>Fleet Vehicle Classification</td>\n",
       "      <td>Not Applicable</td>\n",
       "    </tr>\n",
       "    <tr>\n",
       "      <th>3</th>\n",
       "      <td>LATAM BU</td>\n",
       "      <td>1/1/2024</td>\n",
       "      <td>10053</td>\n",
       "      <td>DUQUE DE CAXIAS</td>\n",
       "      <td>ANDINA</td>\n",
       "      <td>Fleet Vehicle Classification</td>\n",
       "      <td>Owned and Leased Distribution|Owned and Leased...</td>\n",
       "    </tr>\n",
       "    <tr>\n",
       "      <th>4</th>\n",
       "      <td>LATAM BU</td>\n",
       "      <td>1/1/2024</td>\n",
       "      <td>10096</td>\n",
       "      <td>UBERLANDIA CD</td>\n",
       "      <td>UBERLANDIA</td>\n",
       "      <td>Fleet Vehicle Classification</td>\n",
       "      <td>Not Applicable</td>\n",
       "    </tr>\n",
       "  </tbody>\n",
       "</table>\n",
       "</div>"
      ],
      "text/plain": [
       "  BUNAME_BU Reporting_Period  Facility_ID  \\\n",
       "0     NA BU         1/1/2024        10011   \n",
       "1  INSWA BU         1/1/2024        10013   \n",
       "2     NA BU         1/1/2024        10031   \n",
       "3  LATAM BU         1/1/2024        10053   \n",
       "4  LATAM BU         1/1/2024        10096   \n",
       "\n",
       "                                 FACILITY_NAME          BTLR_NAME_ISSCOM  \\\n",
       "0  REYES COCA-COLA BOTTLING RTM NON PRODUCTION  REYES COCA-COLA BOTTLING   \n",
       "1                                  HCCB SANAND          HINDUSTAN CC BVG   \n",
       "2                      TCCC RTM NON PRODUCTION                       NaN   \n",
       "3                              DUQUE DE CAXIAS                    ANDINA   \n",
       "4                                UBERLANDIA CD                UBERLANDIA   \n",
       "\n",
       "                 Indicator_Name  \\\n",
       "0  Fleet Vehicle Classification   \n",
       "1  Fleet Vehicle Classification   \n",
       "2  Fleet Vehicle Classification   \n",
       "3  Fleet Vehicle Classification   \n",
       "4  Fleet Vehicle Classification   \n",
       "\n",
       "                                              Answer  \n",
       "0                      Owned and Leased Distribution  \n",
       "1  Third Party Distribution Vehicles|Owned and Le...  \n",
       "2                                     Not Applicable  \n",
       "3  Owned and Leased Distribution|Owned and Leased...  \n",
       "4                                     Not Applicable  "
      ]
     },
     "execution_count": 13,
     "metadata": {},
     "output_type": "execute_result"
    }
   ],
   "source": [
    "text_input_ind.head()"
   ]
  },
  {
   "cell_type": "code",
   "execution_count": 14,
   "id": "6d8573a1",
   "metadata": {},
   "outputs": [],
   "source": [
    "def detect_changes(df):\n",
    "    # Ensure 'Reporting_Period' is a datetime object for sorting\n",
    "    df['Reporting_Period'] = pd.to_datetime(df['Reporting_Period'], format='%m/%d/%Y')\n",
    "\n",
    "    # Sort the DataFrame by 'Facility_ID', 'Indicator_Name', and 'Reporting_Period'\n",
    "    df.sort_values(by=['Facility_ID', 'Indicator_Name', 'Reporting_Period'], inplace=True)\n",
    "\n",
    "    # Initialize 'Flag' column with default value 0\n",
    "    df['Flag'] = 0\n",
    "    \n",
    "    # Define a function to flag changes and missing answers\n",
    "    def flag_changes_with_initial_check(group):\n",
    "        shifted = group['Answer'].shift()\n",
    "        # Flag changes or missing answers\n",
    "        flags = (group['Answer'] != shifted) | group['Answer'].isna()\n",
    "        # Explicitly set the first entry to True if it is NaN\n",
    "        if group['Answer'].isna().iloc[0]:\n",
    "            flags.iloc[0] = True\n",
    "        else:\n",
    "            flags.iloc[0] = False\n",
    "        return flags.astype(int)\n",
    "\n",
    "    # Apply the flagging function to each group\n",
    "    df['Flag'] = df.groupby(['Facility_ID', 'Indicator_Name'], as_index=False, group_keys=False).apply(flag_changes_with_initial_check)\n",
    "\n",
    "    # Initialize new columns for structured results\n",
    "    df['Detection_Result'] = pd.NA\n",
    "    df['Detection_Details'] = pd.NA\n",
    "\n",
    "    # Update detection result and details based on flags\n",
    "    for name, group in df.groupby(['Facility_ID', 'Indicator_Name']):\n",
    "        changes = group.index[group['Flag'] == 1]\n",
    "\n",
    "        for idx in changes:\n",
    "            facility_id = df.at[idx, 'Facility_ID']\n",
    "            indicator_name = df.at[idx, 'Indicator_Name']\n",
    "            reporting_period = df.at[idx, 'Reporting_Period'].strftime('%m/%d/%Y')\n",
    "\n",
    "            # Correctly find the previous reporting period\n",
    "            prev_idx = group.index.get_loc(idx) - 1\n",
    "            \n",
    "            if prev_idx >= 0:\n",
    "                previous_reporting_period = group['Reporting_Period'].iloc[prev_idx].strftime('%m/%d/%Y')\n",
    "                previous_answer = group['Answer'].iloc[prev_idx]\n",
    "            else:\n",
    "                previous_reporting_period = \"N/A\"\n",
    "                previous_answer = None\n",
    "\n",
    "            if pd.isna(df.at[idx, 'Answer']):\n",
    "                df.at[idx, 'Detection_Result'] = \"Missing Answer\"\n",
    "                df.at[idx, 'Detection_Details'] = f\"Anomaly Detected On: {reporting_period}\"\n",
    "            else:\n",
    "                if prev_idx >= 0:\n",
    "                    new_answer = df.at[idx, 'Answer']\n",
    "                    df.at[idx, 'Detection_Result'] = \"Answer Changed\"\n",
    "                    df.at[idx, 'Detection_Details'] = (\n",
    "                        f\"Answer Changed From: {previous_answer} to {new_answer}\\n\"\n",
    "                        f\"Between: {previous_reporting_period} and {reporting_period}\"\n",
    "                    )\n",
    "\n",
    "    # Create the flagged dataset with the specified columns\n",
    "    flagged_df = df[df['Flag'] == 1][[\n",
    "        'BUNAME_BU', 'Reporting_Period', 'Facility_ID', 'FACILITY_NAME', \n",
    "        'Indicator_Name', 'BTLR_NAME_ISSCOM', 'Detection_Result', 'Detection_Details'\n",
    "    ]]\n",
    "\n",
    "    return df, flagged_df"
   ]
  },
  {
   "cell_type": "code",
   "execution_count": 16,
   "id": "06a40634",
   "metadata": {},
   "outputs": [
    {
     "data": {
      "text/html": [
       "<div>\n",
       "<style scoped>\n",
       "    .dataframe tbody tr th:only-of-type {\n",
       "        vertical-align: middle;\n",
       "    }\n",
       "\n",
       "    .dataframe tbody tr th {\n",
       "        vertical-align: top;\n",
       "    }\n",
       "\n",
       "    .dataframe thead th {\n",
       "        text-align: right;\n",
       "    }\n",
       "</style>\n",
       "<table border=\"1\" class=\"dataframe\">\n",
       "  <thead>\n",
       "    <tr style=\"text-align: right;\">\n",
       "      <th></th>\n",
       "      <th>BUNAME_BU</th>\n",
       "      <th>Reporting_Period</th>\n",
       "      <th>Facility_ID</th>\n",
       "      <th>FACILITY_NAME</th>\n",
       "      <th>BTLR_NAME_ISSCOM</th>\n",
       "      <th>Indicator_Name</th>\n",
       "      <th>Answer</th>\n",
       "      <th>Flag</th>\n",
       "      <th>Detection_Result</th>\n",
       "      <th>Detection_Details</th>\n",
       "    </tr>\n",
       "  </thead>\n",
       "  <tbody>\n",
       "    <tr>\n",
       "      <th>27277</th>\n",
       "      <td>AFRICA BU</td>\n",
       "      <td>2024-01-01</td>\n",
       "      <td>12</td>\n",
       "      <td>BUKAVU</td>\n",
       "      <td>HEINEKEN</td>\n",
       "      <td>Do you have secondary operations on-site? (ie....</td>\n",
       "      <td>No</td>\n",
       "      <td>0</td>\n",
       "      <td>&lt;NA&gt;</td>\n",
       "      <td>&lt;NA&gt;</td>\n",
       "    </tr>\n",
       "    <tr>\n",
       "      <th>30217</th>\n",
       "      <td>AFRICA BU</td>\n",
       "      <td>2024-02-01</td>\n",
       "      <td>12</td>\n",
       "      <td>BUKAVU</td>\n",
       "      <td>HEINEKEN</td>\n",
       "      <td>Do you have secondary operations on-site? (ie....</td>\n",
       "      <td>No</td>\n",
       "      <td>0</td>\n",
       "      <td>&lt;NA&gt;</td>\n",
       "      <td>&lt;NA&gt;</td>\n",
       "    </tr>\n",
       "    <tr>\n",
       "      <th>33145</th>\n",
       "      <td>AFRICA BU</td>\n",
       "      <td>2024-03-01</td>\n",
       "      <td>12</td>\n",
       "      <td>BUKAVU</td>\n",
       "      <td>HEINEKEN</td>\n",
       "      <td>Do you have secondary operations on-site? (ie....</td>\n",
       "      <td>No</td>\n",
       "      <td>0</td>\n",
       "      <td>&lt;NA&gt;</td>\n",
       "      <td>&lt;NA&gt;</td>\n",
       "    </tr>\n",
       "    <tr>\n",
       "      <th>36064</th>\n",
       "      <td>AFRICA BU</td>\n",
       "      <td>2024-04-01</td>\n",
       "      <td>12</td>\n",
       "      <td>BUKAVU</td>\n",
       "      <td>HEINEKEN</td>\n",
       "      <td>Do you have secondary operations on-site? (ie....</td>\n",
       "      <td>No</td>\n",
       "      <td>0</td>\n",
       "      <td>&lt;NA&gt;</td>\n",
       "      <td>&lt;NA&gt;</td>\n",
       "    </tr>\n",
       "    <tr>\n",
       "      <th>38992</th>\n",
       "      <td>AFRICA BU</td>\n",
       "      <td>2024-05-01</td>\n",
       "      <td>12</td>\n",
       "      <td>BUKAVU</td>\n",
       "      <td>HEINEKEN</td>\n",
       "      <td>Do you have secondary operations on-site? (ie....</td>\n",
       "      <td>No</td>\n",
       "      <td>0</td>\n",
       "      <td>&lt;NA&gt;</td>\n",
       "      <td>&lt;NA&gt;</td>\n",
       "    </tr>\n",
       "  </tbody>\n",
       "</table>\n",
       "</div>"
      ],
      "text/plain": [
       "       BUNAME_BU Reporting_Period  Facility_ID FACILITY_NAME BTLR_NAME_ISSCOM  \\\n",
       "27277  AFRICA BU       2024-01-01           12        BUKAVU         HEINEKEN   \n",
       "30217  AFRICA BU       2024-02-01           12        BUKAVU         HEINEKEN   \n",
       "33145  AFRICA BU       2024-03-01           12        BUKAVU         HEINEKEN   \n",
       "36064  AFRICA BU       2024-04-01           12        BUKAVU         HEINEKEN   \n",
       "38992  AFRICA BU       2024-05-01           12        BUKAVU         HEINEKEN   \n",
       "\n",
       "                                          Indicator_Name Answer  Flag  \\\n",
       "27277  Do you have secondary operations on-site? (ie....     No     0   \n",
       "30217  Do you have secondary operations on-site? (ie....     No     0   \n",
       "33145  Do you have secondary operations on-site? (ie....     No     0   \n",
       "36064  Do you have secondary operations on-site? (ie....     No     0   \n",
       "38992  Do you have secondary operations on-site? (ie....     No     0   \n",
       "\n",
       "      Detection_Result Detection_Details  \n",
       "27277             <NA>              <NA>  \n",
       "30217             <NA>              <NA>  \n",
       "33145             <NA>              <NA>  \n",
       "36064             <NA>              <NA>  \n",
       "38992             <NA>              <NA>  "
      ]
     },
     "metadata": {},
     "output_type": "display_data"
    },
    {
     "data": {
      "text/html": [
       "<div>\n",
       "<style scoped>\n",
       "    .dataframe tbody tr th:only-of-type {\n",
       "        vertical-align: middle;\n",
       "    }\n",
       "\n",
       "    .dataframe tbody tr th {\n",
       "        vertical-align: top;\n",
       "    }\n",
       "\n",
       "    .dataframe thead th {\n",
       "        text-align: right;\n",
       "    }\n",
       "</style>\n",
       "<table border=\"1\" class=\"dataframe\">\n",
       "  <thead>\n",
       "    <tr style=\"text-align: right;\">\n",
       "      <th></th>\n",
       "      <th>BUNAME_BU</th>\n",
       "      <th>Reporting_Period</th>\n",
       "      <th>Facility_ID</th>\n",
       "      <th>FACILITY_NAME</th>\n",
       "      <th>Indicator_Name</th>\n",
       "      <th>BTLR_NAME_ISSCOM</th>\n",
       "      <th>Detection_Result</th>\n",
       "      <th>Detection_Details</th>\n",
       "    </tr>\n",
       "  </thead>\n",
       "  <tbody>\n",
       "    <tr>\n",
       "      <th>27279</th>\n",
       "      <td>AFRICA BU</td>\n",
       "      <td>2024-01-01</td>\n",
       "      <td>12</td>\n",
       "      <td>BUKAVU</td>\n",
       "      <td>Electricity is paid by TCCS?</td>\n",
       "      <td>HEINEKEN</td>\n",
       "      <td>Missing Answer</td>\n",
       "      <td>Anomaly Detected On: 01/01/2024</td>\n",
       "    </tr>\n",
       "    <tr>\n",
       "      <th>30219</th>\n",
       "      <td>AFRICA BU</td>\n",
       "      <td>2024-02-01</td>\n",
       "      <td>12</td>\n",
       "      <td>BUKAVU</td>\n",
       "      <td>Electricity is paid by TCCS?</td>\n",
       "      <td>HEINEKEN</td>\n",
       "      <td>Missing Answer</td>\n",
       "      <td>Anomaly Detected On: 02/01/2024</td>\n",
       "    </tr>\n",
       "    <tr>\n",
       "      <th>33147</th>\n",
       "      <td>AFRICA BU</td>\n",
       "      <td>2024-03-01</td>\n",
       "      <td>12</td>\n",
       "      <td>BUKAVU</td>\n",
       "      <td>Electricity is paid by TCCS?</td>\n",
       "      <td>HEINEKEN</td>\n",
       "      <td>Missing Answer</td>\n",
       "      <td>Anomaly Detected On: 03/01/2024</td>\n",
       "    </tr>\n",
       "    <tr>\n",
       "      <th>36066</th>\n",
       "      <td>AFRICA BU</td>\n",
       "      <td>2024-04-01</td>\n",
       "      <td>12</td>\n",
       "      <td>BUKAVU</td>\n",
       "      <td>Electricity is paid by TCCS?</td>\n",
       "      <td>HEINEKEN</td>\n",
       "      <td>Missing Answer</td>\n",
       "      <td>Anomaly Detected On: 04/01/2024</td>\n",
       "    </tr>\n",
       "    <tr>\n",
       "      <th>38994</th>\n",
       "      <td>AFRICA BU</td>\n",
       "      <td>2024-05-01</td>\n",
       "      <td>12</td>\n",
       "      <td>BUKAVU</td>\n",
       "      <td>Electricity is paid by TCCS?</td>\n",
       "      <td>HEINEKEN</td>\n",
       "      <td>Missing Answer</td>\n",
       "      <td>Anomaly Detected On: 05/01/2024</td>\n",
       "    </tr>\n",
       "  </tbody>\n",
       "</table>\n",
       "</div>"
      ],
      "text/plain": [
       "       BUNAME_BU Reporting_Period  Facility_ID FACILITY_NAME  \\\n",
       "27279  AFRICA BU       2024-01-01           12        BUKAVU   \n",
       "30219  AFRICA BU       2024-02-01           12        BUKAVU   \n",
       "33147  AFRICA BU       2024-03-01           12        BUKAVU   \n",
       "36066  AFRICA BU       2024-04-01           12        BUKAVU   \n",
       "38994  AFRICA BU       2024-05-01           12        BUKAVU   \n",
       "\n",
       "                     Indicator_Name BTLR_NAME_ISSCOM Detection_Result  \\\n",
       "27279  Electricity is paid by TCCS?         HEINEKEN   Missing Answer   \n",
       "30219  Electricity is paid by TCCS?         HEINEKEN   Missing Answer   \n",
       "33147  Electricity is paid by TCCS?         HEINEKEN   Missing Answer   \n",
       "36066  Electricity is paid by TCCS?         HEINEKEN   Missing Answer   \n",
       "38994  Electricity is paid by TCCS?         HEINEKEN   Missing Answer   \n",
       "\n",
       "                     Detection_Details  \n",
       "27279  Anomaly Detected On: 01/01/2024  \n",
       "30219  Anomaly Detected On: 02/01/2024  \n",
       "33147  Anomaly Detected On: 03/01/2024  \n",
       "36066  Anomaly Detected On: 04/01/2024  \n",
       "38994  Anomaly Detected On: 05/01/2024  "
      ]
     },
     "metadata": {},
     "output_type": "display_data"
    }
   ],
   "source": [
    "# Example usage\n",
    "full_dataset, flagged_dataset = detect_changes(text_input_ind)\n",
    "display(full_dataset.head())\n",
    "display(flagged_dataset.head())"
   ]
  },
  {
   "cell_type": "code",
   "execution_count": 22,
   "id": "ae44671f",
   "metadata": {},
   "outputs": [
    {
     "data": {
      "text/plain": [
       "LATAM BU     22762\n",
       "NA BU         9854\n",
       "AFRICA BU     8130\n",
       "EUROPE BU     7809\n",
       "GCM BU        5024\n",
       "INSWA BU      4965\n",
       "ASP BU        4777\n",
       "EME BU        4286\n",
       "JSK BU        3252\n",
       "Name: BUNAME_BU, dtype: int64"
      ]
     },
     "execution_count": 22,
     "metadata": {},
     "output_type": "execute_result"
    }
   ],
   "source": [
    "full_dataset[\"BUNAME_BU\"].value_counts()"
   ]
  },
  {
   "cell_type": "code",
   "execution_count": 17,
   "id": "b191d9b0",
   "metadata": {},
   "outputs": [
    {
     "data": {
      "text/plain": [
       "(26637, 8)"
      ]
     },
     "execution_count": 17,
     "metadata": {},
     "output_type": "execute_result"
    }
   ],
   "source": [
    "flagged_dataset.shape"
   ]
  },
  {
   "cell_type": "code",
   "execution_count": 18,
   "id": "1097da0c",
   "metadata": {},
   "outputs": [
    {
     "data": {
      "text/plain": [
       "(70917, 10)"
      ]
     },
     "execution_count": 18,
     "metadata": {},
     "output_type": "execute_result"
    }
   ],
   "source": [
    "full_dataset.shape"
   ]
  },
  {
   "cell_type": "markdown",
   "id": "5f0afdf7",
   "metadata": {},
   "source": [
    "### Save to CSV"
   ]
  },
  {
   "cell_type": "code",
   "execution_count": 19,
   "id": "381a3ce6",
   "metadata": {},
   "outputs": [],
   "source": [
    "flagged_dataset.to_csv('../Data/Output/task1.csv', index=False) "
   ]
  },
  {
   "cell_type": "code",
   "execution_count": 20,
   "id": "0421d3ab",
   "metadata": {},
   "outputs": [],
   "source": [
    "full_dataset.to_csv('../Data/Output/task1_full.csv', index=False) "
   ]
  }
 ],
 "metadata": {
  "kernelspec": {
   "display_name": "forecasting_env",
   "language": "python",
   "name": "python3"
  },
  "language_info": {
   "codemirror_mode": {
    "name": "ipython",
    "version": 3
   },
   "file_extension": ".py",
   "mimetype": "text/x-python",
   "name": "python",
   "nbconvert_exporter": "python",
   "pygments_lexer": "ipython3",
   "version": "3.8.16"
  }
 },
 "nbformat": 4,
 "nbformat_minor": 5
}
